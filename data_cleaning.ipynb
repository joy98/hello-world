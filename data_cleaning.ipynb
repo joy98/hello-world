{
 "cells": [
  {
   "cell_type": "code",
   "execution_count": null,
   "metadata": {},
   "outputs": [],
   "source": [
    "idlist=[]\n",
    "import csv\n",
    "with open('C:\\\\Users\\\\ASUS VIVOBOOK\\\\Desktop\\\\asd\\\\patients.csv',  encoding=\"utf8\") as file:\n",
    "    v=0\n",
    "    reader = csv.reader(file)\n",
    "    for row in reader:\n",
    "        if v != 0:\n",
    "            idlist.append(row[0])\n",
    "        v+=1\n",
    "idlist\n"
   ]
  },
  {
   "cell_type": "code",
   "execution_count": null,
   "metadata": {},
   "outputs": [],
   "source": [
    "import requests\n",
    "\n",
    "condition_dict={}\n",
    "for i in idlist:\n",
    "    id1=str(i)\n",
    "    url1=\"http://localhost:5000/api/get-observations-by-patient-id/\"+id1\n",
    "    url2=\"http://localhost:5000/api/get-conditions-by-patient-id/\"+id1\n",
    "    #response1=requests.get(url1)\n",
    "    response2=requests.get(url2)\n",
    "    #res1=response1.json()\n",
    "    res2=response2.json()\n",
    "    list1=[]\n",
    "    for i in res2:\n",
    "        if 'DESCRIPTION' in i:\n",
    "            d=i['DESCRIPTION']\n",
    "            list1.append(d)\n",
    "    condition_dict[id1]=list1\n",
    "condition_dict"
   ]
  },
  {
   "cell_type": "code",
   "execution_count": null,
   "metadata": {},
   "outputs": [],
   "source": [
    "import requests\n",
    "\n",
    "features_dict={}\n",
    "for i in idlist:\n",
    "    id1=str(i)\n",
    "    url1=\"http://localhost:5000/api/get-observations-by-patient-id/\"+id1\n",
    "    url2=\"http://localhost:5000/api/get-conditions-by-patient-id/\"+id1\n",
    "    response1=requests.get(url1)\n",
    "    #response2=requests.get(url2)\n",
    "    res1=response1.json()\n",
    "    #res2=response2.json()\n",
    "    list1={}\n",
    "    for i in res1:\n",
    "        v=i['DESCRIPTION']\n",
    "        if 'VALUE' in i:\n",
    "            list1[v]=i['VALUE']\n",
    "        else:\n",
    "            list1[v]=0\n",
    "    features_dict[id1]=list1\n",
    "features_dict"
   ]
  },
  {
   "cell_type": "code",
   "execution_count": null,
   "metadata": {},
   "outputs": [],
   "source": [
    "import json\n",
    "json_object = json.dumps(condition_dict)\n",
    "f = open(\"C:\\\\Users\\\\ASUS VIVOBOOK\\\\Desktop\\\\asd\\\\conditions.json\", \"a\")\n",
    "f.write(json_object)\n",
    "f.close()"
   ]
  },
  {
   "cell_type": "code",
   "execution_count": null,
   "metadata": {},
   "outputs": [],
   "source": [
    "import json\n",
    "with open(\"C:\\\\Users\\\\ASUS VIVOBOOK\\\\Desktop\\\\asd\\\\features.json\", \"w\") as outfile:  \n",
    "    json.dump(features_dict, outfile)"
   ]
  }
 ],
 "metadata": {
  "kernelspec": {
   "display_name": "Python 3",
   "language": "python",
   "name": "python3"
  },
  "language_info": {
   "codemirror_mode": {
    "name": "ipython",
    "version": 3
   },
   "file_extension": ".py",
   "mimetype": "text/x-python",
   "name": "python",
   "nbconvert_exporter": "python",
   "pygments_lexer": "ipython3",
   "version": "3.8.3"
  }
 },
 "nbformat": 4,
 "nbformat_minor": 4
}
